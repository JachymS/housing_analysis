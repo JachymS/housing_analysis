{
 "cells": [
  {
   "cell_type": "markdown",
   "id": "f294f1cd",
   "metadata": {},
   "source": [
    "# Analysis\n",
    "\n",
    "Notebook used for analysis of the data on housing and wages in CZ."
   ]
  },
  {
   "cell_type": "code",
   "execution_count": 38,
   "id": "d44bf509",
   "metadata": {},
   "outputs": [],
   "source": [
    "# import packages\n",
    "import pandas as pd\n",
    "import numpy as np"
   ]
  },
  {
   "cell_type": "code",
   "execution_count": 39,
   "id": "0614d286",
   "metadata": {},
   "outputs": [],
   "source": [
    "# Load data\n",
    "regions = pd.read_csv(\"data/processed/regions.csv\")\n",
    "housing = pd.read_csv(\"data/processed/housing.csv\")\n",
    "wages = pd.read_csv(\"data/processed/wages.csv\")"
   ]
  },
  {
   "cell_type": "markdown",
   "id": "b877180d",
   "metadata": {},
   "source": [
    "## Affordability"
   ]
  },
  {
   "cell_type": "code",
   "execution_count": 40,
   "id": "8446c2f5",
   "metadata": {},
   "outputs": [],
   "source": [
    "# Lets first focus on CZ only\n",
    "cz_housing = housing[housing[\"name_base\"]==\"CZ\"]\n",
    "cz_wages = wages[wages[\"name_base\"]==\"CZ\"]\n",
    "\n",
    "# cz all\n",
    "cz_df = pd.merge(cz_housing[[\"year\", \"region\", \"name_base\", \"family_houses\", \"apartments\"]], cz_wages[[\"year\", \"name_base\", \"avg_no_empl_adj\", \"avg_month_wage_adj\"]], how=\"left\", on=[\"name_base\", \"year\"])"
   ]
  },
  {
   "cell_type": "code",
   "execution_count": 41,
   "id": "0041d5dc",
   "metadata": {},
   "outputs": [
    {
     "data": {
      "text/plain": [
       "0     2006\n",
       "1     2007\n",
       "2     2008\n",
       "3     2009\n",
       "4     2010\n",
       "5     2011\n",
       "6     2012\n",
       "7     2013\n",
       "8     2014\n",
       "9     2015\n",
       "10    2016\n",
       "11    2017\n",
       "12    2018\n",
       "13    2019\n",
       "14    2020\n",
       "15    2021\n",
       "16    2022\n",
       "17    2023\n",
       "18    2024\n",
       "Name: year, dtype: int64"
      ]
     },
     "execution_count": 41,
     "metadata": {},
     "output_type": "execute_result"
    }
   ],
   "source": [
    "cz_df[\"year\"]"
   ]
  },
  {
   "cell_type": "code",
   "execution_count": 42,
   "id": "5467a025",
   "metadata": {},
   "outputs": [],
   "source": [
    "# calculate affordability ratio\n",
    "cz_df[\"afford_houses\"] = cz_df[\"family_houses\"] / cz_df[\"avg_month_wage_adj\"]\n",
    "cz_df[\"afford_apartments\"] = cz_df[\"apartments\"] / cz_df[\"avg_month_wage_adj\"]"
   ]
  },
  {
   "cell_type": "code",
   "execution_count": null,
   "id": "0aca0f88",
   "metadata": {},
   "outputs": [],
   "source": []
  }
 ],
 "metadata": {
  "kernelspec": {
   "display_name": "matfyz",
   "language": "python",
   "name": "python3"
  },
  "language_info": {
   "codemirror_mode": {
    "name": "ipython",
    "version": 3
   },
   "file_extension": ".py",
   "mimetype": "text/x-python",
   "name": "python",
   "nbconvert_exporter": "python",
   "pygments_lexer": "ipython3",
   "version": "3.11.10"
  }
 },
 "nbformat": 4,
 "nbformat_minor": 5
}
