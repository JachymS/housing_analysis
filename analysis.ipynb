{
 "cells": [
  {
   "cell_type": "markdown",
   "id": "f294f1cd",
   "metadata": {},
   "source": [
    "# Analysis\n",
    "\n",
    "Notebook used for analysis of the data on housing and wages in CZ."
   ]
  },
  {
   "cell_type": "code",
   "execution_count": 2,
   "id": "d44bf509",
   "metadata": {},
   "outputs": [],
   "source": [
    "# import packages\n",
    "import pandas as pd\n",
    "import numpy as np"
   ]
  },
  {
   "cell_type": "code",
   "execution_count": 8,
   "id": "0614d286",
   "metadata": {},
   "outputs": [],
   "source": [
    "# Load data\n",
    "regions = pd.read_csv(\"data/processed/regions.csv\")\n",
    "housing = pd.read_csv(\"data/processed/housing.csv\")\n",
    "wages = pd.read_csv(\"data/processed/wages.csv\")"
   ]
  },
  {
   "cell_type": "code",
   "execution_count": null,
   "id": "0a7c5f19",
   "metadata": {},
   "outputs": [],
   "source": []
  }
 ],
 "metadata": {
  "kernelspec": {
   "display_name": "matfyz",
   "language": "python",
   "name": "python3"
  },
  "language_info": {
   "codemirror_mode": {
    "name": "ipython",
    "version": 3
   },
   "file_extension": ".py",
   "mimetype": "text/x-python",
   "name": "python",
   "nbconvert_exporter": "python",
   "pygments_lexer": "ipython3",
   "version": "3.11.10"
  }
 },
 "nbformat": 4,
 "nbformat_minor": 5
}
